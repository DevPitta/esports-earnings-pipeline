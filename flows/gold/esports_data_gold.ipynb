{
 "cells": [
  {
   "cell_type": "markdown",
   "metadata": {},
   "source": [
    "## Importing Libraries"
   ]
  },
  {
   "cell_type": "code",
   "execution_count": 39,
   "metadata": {},
   "outputs": [],
   "source": [
    "import os\n",
    "\n",
    "from delta import *\n",
    "from delta.tables import *\n",
    "\n",
    "from dotenv import load_dotenv\n",
    "\n",
    "import pyspark\n",
    "from pyspark.sql.types import *\n",
    "from pyspark.sql import functions as F"
   ]
  },
  {
   "cell_type": "markdown",
   "metadata": {},
   "source": [
    "## Loading Environment Variables"
   ]
  },
  {
   "cell_type": "code",
   "execution_count": 2,
   "metadata": {},
   "outputs": [],
   "source": [
    "load_dotenv()\n",
    "\n",
    "api_key = os.getenv(\"API_KEY\")"
   ]
  },
  {
   "cell_type": "markdown",
   "metadata": {},
   "source": [
    "## Create Spark Session"
   ]
  },
  {
   "cell_type": "code",
   "execution_count": 3,
   "metadata": {},
   "outputs": [
    {
     "name": "stderr",
     "output_type": "stream",
     "text": [
      "24/03/02 06:34:46 WARN Utils: Your hostname, pitta resolves to a loopback address: 127.0.1.1; using 192.168.100.7 instead (on interface enp6s0)\n",
      "24/03/02 06:34:46 WARN Utils: Set SPARK_LOCAL_IP if you need to bind to another address\n"
     ]
    },
    {
     "name": "stdout",
     "output_type": "stream",
     "text": [
      ":: loading settings :: url = jar:file:/home/pitta/anaconda3/envs/esports-pipeline/lib/python3.10/site-packages/pyspark/jars/ivy-2.5.1.jar!/org/apache/ivy/core/settings/ivysettings.xml\n"
     ]
    },
    {
     "name": "stderr",
     "output_type": "stream",
     "text": [
      "Ivy Default Cache set to: /home/pitta/.ivy2/cache\n",
      "The jars for the packages stored in: /home/pitta/.ivy2/jars\n",
      "io.delta#delta-core_2.12 added as a dependency\n",
      ":: resolving dependencies :: org.apache.spark#spark-submit-parent-c26f3d9c-9667-4fd7-923a-933f6e6e1e5f;1.0\n",
      "\tconfs: [default]\n",
      "\tfound io.delta#delta-core_2.12;2.4.0 in central\n",
      "\tfound io.delta#delta-storage;2.4.0 in central\n",
      "\tfound org.antlr#antlr4-runtime;4.9.3 in central\n",
      ":: resolution report :: resolve 289ms :: artifacts dl 16ms\n",
      "\t:: modules in use:\n",
      "\tio.delta#delta-core_2.12;2.4.0 from central in [default]\n",
      "\tio.delta#delta-storage;2.4.0 from central in [default]\n",
      "\torg.antlr#antlr4-runtime;4.9.3 from central in [default]\n",
      "\t---------------------------------------------------------------------\n",
      "\t|                  |            modules            ||   artifacts   |\n",
      "\t|       conf       | number| search|dwnlded|evicted|| number|dwnlded|\n",
      "\t---------------------------------------------------------------------\n",
      "\t|      default     |   3   |   0   |   0   |   0   ||   3   |   0   |\n",
      "\t---------------------------------------------------------------------\n",
      ":: retrieving :: org.apache.spark#spark-submit-parent-c26f3d9c-9667-4fd7-923a-933f6e6e1e5f\n",
      "\tconfs: [default]\n",
      "\t0 artifacts copied, 3 already retrieved (0kB/11ms)\n",
      "24/03/02 06:34:47 WARN NativeCodeLoader: Unable to load native-hadoop library for your platform... using builtin-java classes where applicable\n",
      "Setting default log level to \"WARN\".\n",
      "To adjust logging level use sc.setLogLevel(newLevel). For SparkR, use setLogLevel(newLevel).\n"
     ]
    }
   ],
   "source": [
    "#  Create a spark session with Delta\n",
    "builder = pyspark.sql.SparkSession.builder.appName(\"esports_tournaments_gold\") \\\n",
    "    .config(\"spark.sql.extensions\", \"io.delta.sql.DeltaSparkSessionExtension\") \\\n",
    "    .config(\"spark.sql.catalog.spark_catalog\", \"org.apache.spark.sql.delta.catalog.DeltaCatalog\")\n",
    "\n",
    "# Create spark context\n",
    "spark = configure_spark_with_delta_pip(builder).getOrCreate()\n",
    "spark.sparkContext.setLogLevel(\"ERROR\")"
   ]
  },
  {
   "cell_type": "markdown",
   "metadata": {},
   "source": [
    "## Load Data"
   ]
  },
  {
   "cell_type": "code",
   "execution_count": 84,
   "metadata": {},
   "outputs": [],
   "source": [
    "esports_tournaments_df = spark.read.format('delta').load('../../data/silver/esports_tournaments/')\n",
    "esports_games_genre_df = spark.read.format('delta').load('../../data/silver/esports_games_genre/')\n",
    "esports_games_awarding_prize_money_df = spark.read.format('delta').load('../../data/silver/esports_games_awarding_prize_money/')"
   ]
  },
  {
   "cell_type": "code",
   "execution_count": 87,
   "metadata": {},
   "outputs": [
    {
     "name": "stdout",
     "output_type": "stream",
     "text": [
      "root\n",
      " |-- Genre: string (nullable = true)\n",
      " |-- GameName: string (nullable = true)\n",
      " |-- GameId: integer (nullable = true)\n",
      "\n"
     ]
    },
    {
     "name": "stderr",
     "output_type": "stream",
     "text": [
      "                                                                                \r"
     ]
    },
    {
     "name": "stdout",
     "output_type": "stream",
     "text": [
      "+--------------------+--------------------+------+\n",
      "|               Genre|            GameName|GameId|\n",
      "+--------------------+--------------------+------+\n",
      "|            Strategy|        StarCraft II|   151|\n",
      "|            Strategy|StarCraft: Brood War|   152|\n",
      "|First-Person Shooter|Halo: Combat Evolved|   153|\n",
      "|First-Person Shooter|              Halo 2|   154|\n",
      "|First-Person Shooter|              Halo 3|   155|\n",
      "|First-Person Shooter|         Halo: Reach|   156|\n",
      "|First-Person Shooter|          Quake Live|   157|\n",
      "|            Strategy|        WarCraft III|   158|\n",
      "|First-Person Shooter|     Quake III Arena|   159|\n",
      "|First-Person Shooter|          QuakeWorld|   160|\n",
      "|First-Person Shooter|            Quake II|   161|\n",
      "|First-Person Shooter|      Counter-Strike|   162|\n",
      "|Multiplayer Onlin...|Defense of the An...|   163|\n",
      "|Multiplayer Onlin...|   League of Legends|   164|\n",
      "|   Role-Playing Game|   World of WarCraft|   165|\n",
      "|       Fighting Game|Super Street Figh...|   166|\n",
      "|       Fighting Game|Street Fighter II...|   167|\n",
      "|       Fighting Game|Hyper Street Figh...|   168|\n",
      "|First-Person Shooter|             Quake 4|   169|\n",
      "|First-Person Shooter|              Doom 3|   170|\n",
      "+--------------------+--------------------+------+\n",
      "only showing top 20 rows\n",
      "\n"
     ]
    },
    {
     "name": "stderr",
     "output_type": "stream",
     "text": [
      "                                                                                \r"
     ]
    },
    {
     "data": {
      "text/plain": [
       "657"
      ]
     },
     "execution_count": 87,
     "metadata": {},
     "output_type": "execute_result"
    }
   ],
   "source": [
    "esports_tournaments_df.printSchema()\n",
    "esports_tournaments_df.orderBy(\"TournamentId\").show()\n",
    "esports_tournaments_df.count()"
   ]
  },
  {
   "cell_type": "code",
   "execution_count": 95,
   "metadata": {},
   "outputs": [
    {
     "name": "stderr",
     "output_type": "stream",
     "text": [
      "                                                                                \r"
     ]
    },
    {
     "name": "stdout",
     "output_type": "stream",
     "text": [
      "+------+------------+--------------------+----------+----------+--------------------+--------+-------------+------------+--------+\n",
      "|GameId|TournamentId|      TournamentName| StartDate|   EndDate|            Location|Teamplay|TotalUSDPrize|    GameName|   Genre|\n",
      "+------+------------+--------------------+----------+----------+--------------------+--------+-------------+------------+--------+\n",
      "|   151|        1000|GSL January 2011 ...|2011-01-02|2011-01-29|  Seoul, South Korea|       0|    118364.41|StarCraft II|Strategy|\n",
      "|   151|        1001|GSL January 2011 ...|2011-01-02|2011-01-29|  Seoul, South Korea|       0|     11567.43|StarCraft II|Strategy|\n",
      "|   151|        1002|GSL March 2011 (C...|2011-02-21|2011-03-19|  Seoul, South Korea|       0|    116046.45|StarCraft II|Strategy|\n",
      "|   151|        1003|GSL March 2011 (C...|2011-02-21|2011-03-19|  Seoul, South Korea|       0|     11471.31|StarCraft II|Strategy|\n",
      "|   151|        1004|GSL World Champio...|2011-03-28|2011-04-09|  Seoul, South Korea|       0|      97882.0|StarCraft II|Strategy|\n",
      "|   151|        1005|GSL May 2011 (Cod...|2011-04-18|2011-05-14|  Seoul, South Korea|       0|    121446.31|StarCraft II|Strategy|\n",
      "|   151|        1006|GSL May 2011 (Cod...|2011-04-18|2011-05-14|  Seoul, South Korea|       0|     11868.64|StarCraft II|Strategy|\n",
      "|   151|        1007|GSL Super Tournam...|2011-05-23|2011-06-18|  Seoul, South Korea|       0|    185832.56|StarCraft II|Strategy|\n",
      "|   151|        1008|GSL July 2011 (Co...|2011-06-27|2011-07-30|  Seoul, South Korea|       0|    125290.71|StarCraft II|Strategy|\n",
      "|   151|        1009|GSL July 2011 (Co...|2011-06-27|2011-07-30|  Seoul, South Korea|       0|     12244.25|StarCraft II|Strategy|\n",
      "|   151|        1010|GSL August 2011 (...|2011-08-08|2011-09-10|  Seoul, South Korea|       0|    122551.35|StarCraft II|Strategy|\n",
      "|   151|        1011|GSL August 2011 (...|2011-08-08|2011-09-10|  Seoul, South Korea|       0|     11976.57|StarCraft II|Strategy|\n",
      "|   151|        1012|GSL October 2011 ...|2011-09-19|2011-10-22|  Seoul, South Korea|       0|    115052.73|StarCraft II|Strategy|\n",
      "|   151|        1013|GSL October 2011 ...|2011-09-19|2011-10-22|  Seoul, South Korea|       0|     11243.73|StarCraft II|Strategy|\n",
      "|   151|        1014|GSL November 2011...|2011-10-27|2011-12-07|  Seoul, South Korea|       0|    116860.67|StarCraft II|Strategy|\n",
      "|   151|        1015|    Arena of Legends|2011-09-17|2011-10-02|South Korea (Online)|       0|      5419.12|StarCraft II|Strategy|\n",
      "|   151|        1016|AoL: Team Ace Inv...|2011-11-03|2011-11-13|Busan, South Kore...|       0|     17576.55|StarCraft II|Strategy|\n",
      "|   151|        1017|AoL: The King of ...|2012-01-02|2012-01-05|South Korea (Online)|       0|      3148.79|StarCraft II|Strategy|\n",
      "|   151|        1018|GSL Blizzard Cup ...|2011-12-12|2011-12-17|  Seoul, South Korea|       0|     58696.62|StarCraft II|Strategy|\n",
      "|   151|        1019|MLG Raleigh 2010 ...|2010-08-27|2010-08-29|Raleigh, North Ca...|       0|       7000.0|StarCraft II|Strategy|\n",
      "+------+------------+--------------------+----------+----------+--------------------+--------+-------------+------------+--------+\n",
      "only showing top 20 rows\n",
      "\n"
     ]
    },
    {
     "name": "stderr",
     "output_type": "stream",
     "text": [
      "                                                                                \r"
     ]
    },
    {
     "data": {
      "text/plain": [
       "63865"
      ]
     },
     "execution_count": 95,
     "metadata": {},
     "output_type": "execute_result"
    }
   ],
   "source": [
    "esports_tournaments_with_genre_df = esports_tournaments_df.join(esports_games_genre_df.select(\"GameId\", \"GameName\", \"Genre\"), on=\"GameId\", how=\"inner\")\n",
    "esports_tournaments_with_genre_df.orderBy(\"TournamentId\").show()\n",
    "esports_tournaments_with_genre_df.count()"
   ]
  },
  {
   "cell_type": "markdown",
   "metadata": {},
   "source": [
    "## Join Data"
   ]
  },
  {
   "cell_type": "code",
   "execution_count": null,
   "metadata": {},
   "outputs": [],
   "source": [
    "esports_tournaments_genre_df = esports_tournaments_df.join(esports_games_genre_df.select(\"GameId\", \"GameName\", \"Genre\"), on=\"GameId\", how=\"inner\")\n",
    "esports_tournaments_genre_df.show()"
   ]
  },
  {
   "cell_type": "code",
   "execution_count": null,
   "metadata": {},
   "outputs": [],
   "source": [
    "esports_games_awarding_prize_money_genre_df = esports_games_awarding_prize_money_df.join(esports_games_genre_df.select(\"GameId\", \"Genre\"), on=\"GameId\", how=\"inner\")\n",
    "esports_games_awarding_prize_money_genre_df.show()"
   ]
  }
 ],
 "metadata": {
  "kernelspec": {
   "display_name": "esports-pipeline",
   "language": "python",
   "name": "python3"
  },
  "language_info": {
   "codemirror_mode": {
    "name": "ipython",
    "version": 3
   },
   "file_extension": ".py",
   "mimetype": "text/x-python",
   "name": "python",
   "nbconvert_exporter": "python",
   "pygments_lexer": "ipython3",
   "version": "3.10.13"
  }
 },
 "nbformat": 4,
 "nbformat_minor": 2
}
